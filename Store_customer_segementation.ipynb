{
 "cells": [
  {
   "cell_type": "markdown",
   "id": "5ac26cfb",
   "metadata": {},
   "source": [
    "# Customer Segmentation using K-Means"
   ]
  },
  {
   "cell_type": "markdown",
   "id": "4be88eca",
   "metadata": {},
   "source": [
    "## importing Libraries"
   ]
  },
  {
   "cell_type": "code",
   "execution_count": 1,
   "id": "9fb6233f",
   "metadata": {},
   "outputs": [],
   "source": [
    "import pandas as pd\n",
    "import numpy as np\n",
    "import matplotlib.pyplot as plt\n",
    "import seaborn as sns\n",
    "import warnings\n",
    "warnings.filterwarnings(\"ignore\")\n",
    "from IPython.core.interactiveshell import InteractiveShell\n",
    "InteractiveShell.ask_node_interactivity=\"all\""
   ]
  },
  {
   "cell_type": "code",
   "execution_count": 2,
   "id": "4ac0e7d4",
   "metadata": {},
   "outputs": [],
   "source": [
    "# reading the dataset\n",
    "data=pd.read_csv(r\"C:\\Users\\DELL\\Downloads\\Customers.csv\")"
   ]
  },
  {
   "cell_type": "code",
   "execution_count": 3,
   "id": "46ee60ae",
   "metadata": {},
   "outputs": [],
   "source": [
    "data1=data.copy()"
   ]
  },
  {
   "cell_type": "code",
   "execution_count": 4,
   "id": "5d0cca26",
   "metadata": {},
   "outputs": [
    {
     "data": {
      "text/html": [
       "<div>\n",
       "<style scoped>\n",
       "    .dataframe tbody tr th:only-of-type {\n",
       "        vertical-align: middle;\n",
       "    }\n",
       "\n",
       "    .dataframe tbody tr th {\n",
       "        vertical-align: top;\n",
       "    }\n",
       "\n",
       "    .dataframe thead th {\n",
       "        text-align: right;\n",
       "    }\n",
       "</style>\n",
       "<table border=\"1\" class=\"dataframe\">\n",
       "  <thead>\n",
       "    <tr style=\"text-align: right;\">\n",
       "      <th></th>\n",
       "      <th>CustomerID</th>\n",
       "      <th>Gender</th>\n",
       "      <th>Age</th>\n",
       "      <th>Annual Income ($)</th>\n",
       "      <th>Spending Score (1-100)</th>\n",
       "      <th>Profession</th>\n",
       "      <th>Work Experience</th>\n",
       "      <th>Family Size</th>\n",
       "    </tr>\n",
       "  </thead>\n",
       "  <tbody>\n",
       "    <tr>\n",
       "      <th>0</th>\n",
       "      <td>1</td>\n",
       "      <td>Male</td>\n",
       "      <td>19</td>\n",
       "      <td>15000</td>\n",
       "      <td>39</td>\n",
       "      <td>Healthcare</td>\n",
       "      <td>1</td>\n",
       "      <td>4</td>\n",
       "    </tr>\n",
       "    <tr>\n",
       "      <th>1</th>\n",
       "      <td>2</td>\n",
       "      <td>Male</td>\n",
       "      <td>21</td>\n",
       "      <td>35000</td>\n",
       "      <td>81</td>\n",
       "      <td>Engineer</td>\n",
       "      <td>3</td>\n",
       "      <td>3</td>\n",
       "    </tr>\n",
       "    <tr>\n",
       "      <th>2</th>\n",
       "      <td>3</td>\n",
       "      <td>Female</td>\n",
       "      <td>20</td>\n",
       "      <td>86000</td>\n",
       "      <td>6</td>\n",
       "      <td>Engineer</td>\n",
       "      <td>1</td>\n",
       "      <td>1</td>\n",
       "    </tr>\n",
       "    <tr>\n",
       "      <th>3</th>\n",
       "      <td>4</td>\n",
       "      <td>Female</td>\n",
       "      <td>23</td>\n",
       "      <td>59000</td>\n",
       "      <td>77</td>\n",
       "      <td>Lawyer</td>\n",
       "      <td>0</td>\n",
       "      <td>2</td>\n",
       "    </tr>\n",
       "    <tr>\n",
       "      <th>4</th>\n",
       "      <td>5</td>\n",
       "      <td>Female</td>\n",
       "      <td>31</td>\n",
       "      <td>38000</td>\n",
       "      <td>40</td>\n",
       "      <td>Entertainment</td>\n",
       "      <td>2</td>\n",
       "      <td>6</td>\n",
       "    </tr>\n",
       "  </tbody>\n",
       "</table>\n",
       "</div>"
      ],
      "text/plain": [
       "   CustomerID  Gender  Age  Annual Income ($)  Spending Score (1-100)  \\\n",
       "0           1    Male   19              15000                      39   \n",
       "1           2    Male   21              35000                      81   \n",
       "2           3  Female   20              86000                       6   \n",
       "3           4  Female   23              59000                      77   \n",
       "4           5  Female   31              38000                      40   \n",
       "\n",
       "      Profession  Work Experience  Family Size  \n",
       "0     Healthcare                1            4  \n",
       "1       Engineer                3            3  \n",
       "2       Engineer                1            1  \n",
       "3         Lawyer                0            2  \n",
       "4  Entertainment                2            6  "
      ]
     },
     "execution_count": 4,
     "metadata": {},
     "output_type": "execute_result"
    }
   ],
   "source": [
    "# first five rows\n",
    "data.head()"
   ]
  },
  {
   "cell_type": "code",
   "execution_count": 5,
   "id": "48ebb50d",
   "metadata": {},
   "outputs": [
    {
     "data": {
      "text/html": [
       "<div>\n",
       "<style scoped>\n",
       "    .dataframe tbody tr th:only-of-type {\n",
       "        vertical-align: middle;\n",
       "    }\n",
       "\n",
       "    .dataframe tbody tr th {\n",
       "        vertical-align: top;\n",
       "    }\n",
       "\n",
       "    .dataframe thead th {\n",
       "        text-align: right;\n",
       "    }\n",
       "</style>\n",
       "<table border=\"1\" class=\"dataframe\">\n",
       "  <thead>\n",
       "    <tr style=\"text-align: right;\">\n",
       "      <th></th>\n",
       "      <th>CustomerID</th>\n",
       "      <th>Gender</th>\n",
       "      <th>Age</th>\n",
       "      <th>Annual Income ($)</th>\n",
       "      <th>Spending Score (1-100)</th>\n",
       "      <th>Profession</th>\n",
       "      <th>Work Experience</th>\n",
       "      <th>Family Size</th>\n",
       "    </tr>\n",
       "  </thead>\n",
       "  <tbody>\n",
       "    <tr>\n",
       "      <th>1995</th>\n",
       "      <td>1996</td>\n",
       "      <td>Female</td>\n",
       "      <td>71</td>\n",
       "      <td>184387</td>\n",
       "      <td>40</td>\n",
       "      <td>Artist</td>\n",
       "      <td>8</td>\n",
       "      <td>7</td>\n",
       "    </tr>\n",
       "    <tr>\n",
       "      <th>1996</th>\n",
       "      <td>1997</td>\n",
       "      <td>Female</td>\n",
       "      <td>91</td>\n",
       "      <td>73158</td>\n",
       "      <td>32</td>\n",
       "      <td>Doctor</td>\n",
       "      <td>7</td>\n",
       "      <td>7</td>\n",
       "    </tr>\n",
       "    <tr>\n",
       "      <th>1997</th>\n",
       "      <td>1998</td>\n",
       "      <td>Male</td>\n",
       "      <td>87</td>\n",
       "      <td>90961</td>\n",
       "      <td>14</td>\n",
       "      <td>Healthcare</td>\n",
       "      <td>9</td>\n",
       "      <td>2</td>\n",
       "    </tr>\n",
       "    <tr>\n",
       "      <th>1998</th>\n",
       "      <td>1999</td>\n",
       "      <td>Male</td>\n",
       "      <td>77</td>\n",
       "      <td>182109</td>\n",
       "      <td>4</td>\n",
       "      <td>Executive</td>\n",
       "      <td>7</td>\n",
       "      <td>2</td>\n",
       "    </tr>\n",
       "    <tr>\n",
       "      <th>1999</th>\n",
       "      <td>2000</td>\n",
       "      <td>Male</td>\n",
       "      <td>90</td>\n",
       "      <td>110610</td>\n",
       "      <td>52</td>\n",
       "      <td>Entertainment</td>\n",
       "      <td>5</td>\n",
       "      <td>2</td>\n",
       "    </tr>\n",
       "  </tbody>\n",
       "</table>\n",
       "</div>"
      ],
      "text/plain": [
       "      CustomerID  Gender  Age  Annual Income ($)  Spending Score (1-100)  \\\n",
       "1995        1996  Female   71             184387                      40   \n",
       "1996        1997  Female   91              73158                      32   \n",
       "1997        1998    Male   87              90961                      14   \n",
       "1998        1999    Male   77             182109                       4   \n",
       "1999        2000    Male   90             110610                      52   \n",
       "\n",
       "         Profession  Work Experience  Family Size  \n",
       "1995         Artist                8            7  \n",
       "1996         Doctor                7            7  \n",
       "1997     Healthcare                9            2  \n",
       "1998      Executive                7            2  \n",
       "1999  Entertainment                5            2  "
      ]
     },
     "execution_count": 5,
     "metadata": {},
     "output_type": "execute_result"
    }
   ],
   "source": [
    "# last five rows\n",
    "data.tail()"
   ]
  },
  {
   "cell_type": "code",
   "execution_count": 6,
   "id": "9b9e78a3",
   "metadata": {},
   "outputs": [
    {
     "data": {
      "text/plain": [
       "(2000, 8)"
      ]
     },
     "execution_count": 6,
     "metadata": {},
     "output_type": "execute_result"
    }
   ],
   "source": [
    "# no.of rows and columns\n",
    "data.shape"
   ]
  },
  {
   "cell_type": "code",
   "execution_count": 7,
   "id": "ac48a08d",
   "metadata": {},
   "outputs": [
    {
     "data": {
      "text/plain": [
       "Index(['CustomerID', 'Gender', 'Age', 'Annual Income ($)',\n",
       "       'Spending Score (1-100)', 'Profession', 'Work Experience',\n",
       "       'Family Size'],\n",
       "      dtype='object')"
      ]
     },
     "execution_count": 7,
     "metadata": {},
     "output_type": "execute_result"
    }
   ],
   "source": [
    "# gives column names\n",
    "data.columns"
   ]
  },
  {
   "cell_type": "code",
   "execution_count": 8,
   "id": "45fe76e6",
   "metadata": {},
   "outputs": [
    {
     "data": {
      "text/plain": [
       "CustomerID                 int64\n",
       "Gender                    object\n",
       "Age                        int64\n",
       "Annual Income ($)          int64\n",
       "Spending Score (1-100)     int64\n",
       "Profession                object\n",
       "Work Experience            int64\n",
       "Family Size                int64\n",
       "dtype: object"
      ]
     },
     "execution_count": 8,
     "metadata": {},
     "output_type": "execute_result"
    }
   ],
   "source": [
    "### the datatypes of column names\n",
    "data.dtypes"
   ]
  },
  {
   "cell_type": "code",
   "execution_count": 9,
   "id": "09923824",
   "metadata": {},
   "outputs": [
    {
     "data": {
      "text/html": [
       "<div>\n",
       "<style scoped>\n",
       "    .dataframe tbody tr th:only-of-type {\n",
       "        vertical-align: middle;\n",
       "    }\n",
       "\n",
       "    .dataframe tbody tr th {\n",
       "        vertical-align: top;\n",
       "    }\n",
       "\n",
       "    .dataframe thead th {\n",
       "        text-align: right;\n",
       "    }\n",
       "</style>\n",
       "<table border=\"1\" class=\"dataframe\">\n",
       "  <thead>\n",
       "    <tr style=\"text-align: right;\">\n",
       "      <th></th>\n",
       "      <th>CustomerID</th>\n",
       "      <th>Age</th>\n",
       "      <th>Annual Income ($)</th>\n",
       "      <th>Spending Score (1-100)</th>\n",
       "      <th>Work Experience</th>\n",
       "      <th>Family Size</th>\n",
       "    </tr>\n",
       "  </thead>\n",
       "  <tbody>\n",
       "    <tr>\n",
       "      <th>count</th>\n",
       "      <td>2000.000000</td>\n",
       "      <td>2000.000000</td>\n",
       "      <td>2000.000000</td>\n",
       "      <td>2000.000000</td>\n",
       "      <td>2000.000000</td>\n",
       "      <td>2000.000000</td>\n",
       "    </tr>\n",
       "    <tr>\n",
       "      <th>mean</th>\n",
       "      <td>1000.500000</td>\n",
       "      <td>48.960000</td>\n",
       "      <td>110731.821500</td>\n",
       "      <td>50.962500</td>\n",
       "      <td>4.102500</td>\n",
       "      <td>3.768500</td>\n",
       "    </tr>\n",
       "    <tr>\n",
       "      <th>std</th>\n",
       "      <td>577.494589</td>\n",
       "      <td>28.429747</td>\n",
       "      <td>45739.536688</td>\n",
       "      <td>27.934661</td>\n",
       "      <td>3.922204</td>\n",
       "      <td>1.970749</td>\n",
       "    </tr>\n",
       "    <tr>\n",
       "      <th>min</th>\n",
       "      <td>1.000000</td>\n",
       "      <td>0.000000</td>\n",
       "      <td>0.000000</td>\n",
       "      <td>0.000000</td>\n",
       "      <td>0.000000</td>\n",
       "      <td>1.000000</td>\n",
       "    </tr>\n",
       "    <tr>\n",
       "      <th>25%</th>\n",
       "      <td>500.750000</td>\n",
       "      <td>25.000000</td>\n",
       "      <td>74572.000000</td>\n",
       "      <td>28.000000</td>\n",
       "      <td>1.000000</td>\n",
       "      <td>2.000000</td>\n",
       "    </tr>\n",
       "    <tr>\n",
       "      <th>50%</th>\n",
       "      <td>1000.500000</td>\n",
       "      <td>48.000000</td>\n",
       "      <td>110045.000000</td>\n",
       "      <td>50.000000</td>\n",
       "      <td>3.000000</td>\n",
       "      <td>4.000000</td>\n",
       "    </tr>\n",
       "    <tr>\n",
       "      <th>75%</th>\n",
       "      <td>1500.250000</td>\n",
       "      <td>73.000000</td>\n",
       "      <td>149092.750000</td>\n",
       "      <td>75.000000</td>\n",
       "      <td>7.000000</td>\n",
       "      <td>5.000000</td>\n",
       "    </tr>\n",
       "    <tr>\n",
       "      <th>max</th>\n",
       "      <td>2000.000000</td>\n",
       "      <td>99.000000</td>\n",
       "      <td>189974.000000</td>\n",
       "      <td>100.000000</td>\n",
       "      <td>17.000000</td>\n",
       "      <td>9.000000</td>\n",
       "    </tr>\n",
       "  </tbody>\n",
       "</table>\n",
       "</div>"
      ],
      "text/plain": [
       "        CustomerID          Age  Annual Income ($)  Spending Score (1-100)  \\\n",
       "count  2000.000000  2000.000000        2000.000000             2000.000000   \n",
       "mean   1000.500000    48.960000      110731.821500               50.962500   \n",
       "std     577.494589    28.429747       45739.536688               27.934661   \n",
       "min       1.000000     0.000000           0.000000                0.000000   \n",
       "25%     500.750000    25.000000       74572.000000               28.000000   \n",
       "50%    1000.500000    48.000000      110045.000000               50.000000   \n",
       "75%    1500.250000    73.000000      149092.750000               75.000000   \n",
       "max    2000.000000    99.000000      189974.000000              100.000000   \n",
       "\n",
       "       Work Experience  Family Size  \n",
       "count      2000.000000  2000.000000  \n",
       "mean          4.102500     3.768500  \n",
       "std           3.922204     1.970749  \n",
       "min           0.000000     1.000000  \n",
       "25%           1.000000     2.000000  \n",
       "50%           3.000000     4.000000  \n",
       "75%           7.000000     5.000000  \n",
       "max          17.000000     9.000000  "
      ]
     },
     "execution_count": 9,
     "metadata": {},
     "output_type": "execute_result"
    }
   ],
   "source": [
    "### summary table of continuous variables\n",
    "data.describe()"
   ]
  },
  {
   "cell_type": "code",
   "execution_count": 10,
   "id": "f4f48ea0",
   "metadata": {},
   "outputs": [
    {
     "data": {
      "text/html": [
       "<div>\n",
       "<style scoped>\n",
       "    .dataframe tbody tr th:only-of-type {\n",
       "        vertical-align: middle;\n",
       "    }\n",
       "\n",
       "    .dataframe tbody tr th {\n",
       "        vertical-align: top;\n",
       "    }\n",
       "\n",
       "    .dataframe thead th {\n",
       "        text-align: right;\n",
       "    }\n",
       "</style>\n",
       "<table border=\"1\" class=\"dataframe\">\n",
       "  <thead>\n",
       "    <tr style=\"text-align: right;\">\n",
       "      <th></th>\n",
       "      <th>Gender</th>\n",
       "      <th>Profession</th>\n",
       "    </tr>\n",
       "  </thead>\n",
       "  <tbody>\n",
       "    <tr>\n",
       "      <th>count</th>\n",
       "      <td>2000</td>\n",
       "      <td>1965</td>\n",
       "    </tr>\n",
       "    <tr>\n",
       "      <th>unique</th>\n",
       "      <td>2</td>\n",
       "      <td>9</td>\n",
       "    </tr>\n",
       "    <tr>\n",
       "      <th>top</th>\n",
       "      <td>Female</td>\n",
       "      <td>Artist</td>\n",
       "    </tr>\n",
       "    <tr>\n",
       "      <th>freq</th>\n",
       "      <td>1186</td>\n",
       "      <td>612</td>\n",
       "    </tr>\n",
       "  </tbody>\n",
       "</table>\n",
       "</div>"
      ],
      "text/plain": [
       "        Gender Profession\n",
       "count     2000       1965\n",
       "unique       2          9\n",
       "top     Female     Artist\n",
       "freq      1186        612"
      ]
     },
     "execution_count": 10,
     "metadata": {},
     "output_type": "execute_result"
    }
   ],
   "source": [
    "### summary table of categorical variables\n",
    "data.describe(include=\"object\")"
   ]
  },
  {
   "cell_type": "markdown",
   "id": "a47d8c92",
   "metadata": {},
   "source": [
    "## Data Preprocessing"
   ]
  },
  {
   "cell_type": "markdown",
   "id": "8da42cdb",
   "metadata": {},
   "source": [
    "### Memory usage"
   ]
  },
  {
   "cell_type": "code",
   "execution_count": 11,
   "id": "789c0be6",
   "metadata": {},
   "outputs": [],
   "source": [
    "Pre_memory=data.memory_usage().sum()"
   ]
  },
  {
   "cell_type": "code",
   "execution_count": 12,
   "id": "c8dbec34",
   "metadata": {},
   "outputs": [
    {
     "data": {
      "text/plain": [
       "128128"
      ]
     },
     "execution_count": 12,
     "metadata": {},
     "output_type": "execute_result"
    }
   ],
   "source": [
    "Pre_memory"
   ]
  },
  {
   "cell_type": "markdown",
   "id": "c6ba5f73",
   "metadata": {},
   "source": [
    "### optimization of memory"
   ]
  },
  {
   "cell_type": "code",
   "execution_count": 13,
   "id": "4b314fa2",
   "metadata": {},
   "outputs": [
    {
     "name": "stdout",
     "output_type": "stream",
     "text": [
      "CustomerID int64\n",
      "Age int64\n",
      "Annual Income ($) int64\n",
      "Spending Score (1-100) int64\n",
      "Work Experience int64\n",
      "Family Size int64\n"
     ]
    }
   ],
   "source": [
    "for i in data.describe().columns:\n",
    "    if \"int\" in str(data[i].dtype):\n",
    "        print(i,data[i].dtype)\n",
    "        if data[i].min()> np.iinfo(np.int8).min and data[i].max()< np.iinfo(np.int8).max:\n",
    "            data[i]=data[i].astype(np.int8)\n",
    "        elif data[i].min()> np.iinfo(np.int16).min and data[i].max()< np.iinfo(np.int16).max:\n",
    "            data[i]=data[i].astype(np.int16)\n",
    "        elif data[i].min()> np.iinfo(np.int32).min and data[i].max()< np.iinfo(np.int32).max:\n",
    "            data[i]=data[i].astype(np.int32)\n",
    "        elif data[i].min()> np.iinfo(np.int64).min and data[i].max()< np.iinfo(np.int64).max:\n",
    "            data[i]=data[i].astype(np.int64)"
   ]
  },
  {
   "cell_type": "code",
   "execution_count": 14,
   "id": "93fdde5a",
   "metadata": {},
   "outputs": [],
   "source": [
    "### after memory optimization\n",
    "post_memory=data.memory_usage().sum()"
   ]
  },
  {
   "cell_type": "code",
   "execution_count": 15,
   "id": "788b168e",
   "metadata": {},
   "outputs": [
    {
     "data": {
      "text/plain": [
       "52128"
      ]
     },
     "execution_count": 15,
     "metadata": {},
     "output_type": "execute_result"
    }
   ],
   "source": [
    "post_memory"
   ]
  },
  {
   "cell_type": "markdown",
   "id": "57b2110e",
   "metadata": {},
   "source": [
    "### Lift calculations"
   ]
  },
  {
   "cell_type": "code",
   "execution_count": 16,
   "id": "c521b47b",
   "metadata": {},
   "outputs": [],
   "source": [
    "lift=((Pre_memory-post_memory)/Pre_memory)*100"
   ]
  },
  {
   "cell_type": "code",
   "execution_count": 17,
   "id": "42086503",
   "metadata": {},
   "outputs": [
    {
     "data": {
      "text/plain": [
       "59.315684315684315"
      ]
     },
     "execution_count": 17,
     "metadata": {},
     "output_type": "execute_result"
    }
   ],
   "source": [
    "lift"
   ]
  },
  {
   "cell_type": "markdown",
   "id": "f7e5016a",
   "metadata": {},
   "source": [
    "### Outlier Treatment"
   ]
  },
  {
   "cell_type": "code",
   "execution_count": 18,
   "id": "68530c3b",
   "metadata": {},
   "outputs": [],
   "source": [
    "def Outliertreatment(x):\n",
    "    for i in x.describe().columns:\n",
    "        qrt1=np.quantile(x[i],0.25)\n",
    "        qrt2=np.quantile(x[i],0.50)\n",
    "        qrt3=np.quantile(x[i],0.75)\n",
    "        iqrt=qrt3-qrt1\n",
    "        utv=qrt3+1.5*(iqrt)\n",
    "        ltv=qrt1-1.5*(iqrt)\n",
    "        outlier=[]\n",
    "        for i in x[i]:\n",
    "            if i<ltv or i>utv:\n",
    "                outlier.append(x[i].median())\n",
    "            else:\n",
    "                outlier.append(i)\n",
    "                return x"
   ]
  },
  {
   "cell_type": "code",
   "execution_count": 19,
   "id": "93e85ca7",
   "metadata": {},
   "outputs": [
    {
     "data": {
      "text/html": [
       "<div>\n",
       "<style scoped>\n",
       "    .dataframe tbody tr th:only-of-type {\n",
       "        vertical-align: middle;\n",
       "    }\n",
       "\n",
       "    .dataframe tbody tr th {\n",
       "        vertical-align: top;\n",
       "    }\n",
       "\n",
       "    .dataframe thead th {\n",
       "        text-align: right;\n",
       "    }\n",
       "</style>\n",
       "<table border=\"1\" class=\"dataframe\">\n",
       "  <thead>\n",
       "    <tr style=\"text-align: right;\">\n",
       "      <th></th>\n",
       "      <th>CustomerID</th>\n",
       "      <th>Gender</th>\n",
       "      <th>Age</th>\n",
       "      <th>Annual Income ($)</th>\n",
       "      <th>Spending Score (1-100)</th>\n",
       "      <th>Profession</th>\n",
       "      <th>Work Experience</th>\n",
       "      <th>Family Size</th>\n",
       "    </tr>\n",
       "  </thead>\n",
       "  <tbody>\n",
       "    <tr>\n",
       "      <th>0</th>\n",
       "      <td>1</td>\n",
       "      <td>Male</td>\n",
       "      <td>19</td>\n",
       "      <td>15000</td>\n",
       "      <td>39</td>\n",
       "      <td>Healthcare</td>\n",
       "      <td>1</td>\n",
       "      <td>4</td>\n",
       "    </tr>\n",
       "    <tr>\n",
       "      <th>1</th>\n",
       "      <td>2</td>\n",
       "      <td>Male</td>\n",
       "      <td>21</td>\n",
       "      <td>35000</td>\n",
       "      <td>81</td>\n",
       "      <td>Engineer</td>\n",
       "      <td>3</td>\n",
       "      <td>3</td>\n",
       "    </tr>\n",
       "    <tr>\n",
       "      <th>2</th>\n",
       "      <td>3</td>\n",
       "      <td>Female</td>\n",
       "      <td>20</td>\n",
       "      <td>86000</td>\n",
       "      <td>6</td>\n",
       "      <td>Engineer</td>\n",
       "      <td>1</td>\n",
       "      <td>1</td>\n",
       "    </tr>\n",
       "    <tr>\n",
       "      <th>3</th>\n",
       "      <td>4</td>\n",
       "      <td>Female</td>\n",
       "      <td>23</td>\n",
       "      <td>59000</td>\n",
       "      <td>77</td>\n",
       "      <td>Lawyer</td>\n",
       "      <td>0</td>\n",
       "      <td>2</td>\n",
       "    </tr>\n",
       "    <tr>\n",
       "      <th>4</th>\n",
       "      <td>5</td>\n",
       "      <td>Female</td>\n",
       "      <td>31</td>\n",
       "      <td>38000</td>\n",
       "      <td>40</td>\n",
       "      <td>Entertainment</td>\n",
       "      <td>2</td>\n",
       "      <td>6</td>\n",
       "    </tr>\n",
       "    <tr>\n",
       "      <th>...</th>\n",
       "      <td>...</td>\n",
       "      <td>...</td>\n",
       "      <td>...</td>\n",
       "      <td>...</td>\n",
       "      <td>...</td>\n",
       "      <td>...</td>\n",
       "      <td>...</td>\n",
       "      <td>...</td>\n",
       "    </tr>\n",
       "    <tr>\n",
       "      <th>1995</th>\n",
       "      <td>1996</td>\n",
       "      <td>Female</td>\n",
       "      <td>71</td>\n",
       "      <td>184387</td>\n",
       "      <td>40</td>\n",
       "      <td>Artist</td>\n",
       "      <td>8</td>\n",
       "      <td>7</td>\n",
       "    </tr>\n",
       "    <tr>\n",
       "      <th>1996</th>\n",
       "      <td>1997</td>\n",
       "      <td>Female</td>\n",
       "      <td>91</td>\n",
       "      <td>73158</td>\n",
       "      <td>32</td>\n",
       "      <td>Doctor</td>\n",
       "      <td>7</td>\n",
       "      <td>7</td>\n",
       "    </tr>\n",
       "    <tr>\n",
       "      <th>1997</th>\n",
       "      <td>1998</td>\n",
       "      <td>Male</td>\n",
       "      <td>87</td>\n",
       "      <td>90961</td>\n",
       "      <td>14</td>\n",
       "      <td>Healthcare</td>\n",
       "      <td>9</td>\n",
       "      <td>2</td>\n",
       "    </tr>\n",
       "    <tr>\n",
       "      <th>1998</th>\n",
       "      <td>1999</td>\n",
       "      <td>Male</td>\n",
       "      <td>77</td>\n",
       "      <td>182109</td>\n",
       "      <td>4</td>\n",
       "      <td>Executive</td>\n",
       "      <td>7</td>\n",
       "      <td>2</td>\n",
       "    </tr>\n",
       "    <tr>\n",
       "      <th>1999</th>\n",
       "      <td>2000</td>\n",
       "      <td>Male</td>\n",
       "      <td>90</td>\n",
       "      <td>110610</td>\n",
       "      <td>52</td>\n",
       "      <td>Entertainment</td>\n",
       "      <td>5</td>\n",
       "      <td>2</td>\n",
       "    </tr>\n",
       "  </tbody>\n",
       "</table>\n",
       "<p>2000 rows × 8 columns</p>\n",
       "</div>"
      ],
      "text/plain": [
       "      CustomerID  Gender  Age  Annual Income ($)  Spending Score (1-100)  \\\n",
       "0              1    Male   19              15000                      39   \n",
       "1              2    Male   21              35000                      81   \n",
       "2              3  Female   20              86000                       6   \n",
       "3              4  Female   23              59000                      77   \n",
       "4              5  Female   31              38000                      40   \n",
       "...          ...     ...  ...                ...                     ...   \n",
       "1995        1996  Female   71             184387                      40   \n",
       "1996        1997  Female   91              73158                      32   \n",
       "1997        1998    Male   87              90961                      14   \n",
       "1998        1999    Male   77             182109                       4   \n",
       "1999        2000    Male   90             110610                      52   \n",
       "\n",
       "         Profession  Work Experience  Family Size  \n",
       "0        Healthcare                1            4  \n",
       "1          Engineer                3            3  \n",
       "2          Engineer                1            1  \n",
       "3            Lawyer                0            2  \n",
       "4     Entertainment                2            6  \n",
       "...             ...              ...          ...  \n",
       "1995         Artist                8            7  \n",
       "1996         Doctor                7            7  \n",
       "1997     Healthcare                9            2  \n",
       "1998      Executive                7            2  \n",
       "1999  Entertainment                5            2  \n",
       "\n",
       "[2000 rows x 8 columns]"
      ]
     },
     "execution_count": 19,
     "metadata": {},
     "output_type": "execute_result"
    }
   ],
   "source": [
    "Outliertreatment(data)"
   ]
  },
  {
   "cell_type": "markdown",
   "id": "7e7e00e0",
   "metadata": {},
   "source": [
    "### one hot label encoder"
   ]
  },
  {
   "cell_type": "code",
   "execution_count": 20,
   "id": "ba622760",
   "metadata": {},
   "outputs": [],
   "source": [
    "from sklearn.preprocessing import LabelEncoder"
   ]
  },
  {
   "cell_type": "code",
   "execution_count": 21,
   "id": "6490fed6",
   "metadata": {},
   "outputs": [
    {
     "data": {
      "text/plain": [
       "array([1, 1, 0, ..., 1, 1, 1])"
      ]
     },
     "execution_count": 21,
     "metadata": {},
     "output_type": "execute_result"
    }
   ],
   "source": [
    "le=LabelEncoder()\n",
    "le.fit(data[\"Gender\"])\n",
    "le.transform(data[\"Gender\"])"
   ]
  },
  {
   "cell_type": "code",
   "execution_count": 22,
   "id": "1ca89e07",
   "metadata": {},
   "outputs": [],
   "source": [
    "data[\"Gender\"]=le.transform(data[\"Gender\"])\n",
    "# male=1\n",
    "# female=0"
   ]
  },
  {
   "cell_type": "code",
   "execution_count": 23,
   "id": "b30f2ed6",
   "metadata": {},
   "outputs": [
    {
     "data": {
      "text/html": [
       "<div>\n",
       "<style scoped>\n",
       "    .dataframe tbody tr th:only-of-type {\n",
       "        vertical-align: middle;\n",
       "    }\n",
       "\n",
       "    .dataframe tbody tr th {\n",
       "        vertical-align: top;\n",
       "    }\n",
       "\n",
       "    .dataframe thead th {\n",
       "        text-align: right;\n",
       "    }\n",
       "</style>\n",
       "<table border=\"1\" class=\"dataframe\">\n",
       "  <thead>\n",
       "    <tr style=\"text-align: right;\">\n",
       "      <th></th>\n",
       "      <th>CustomerID</th>\n",
       "      <th>Gender</th>\n",
       "      <th>Age</th>\n",
       "      <th>Annual Income ($)</th>\n",
       "      <th>Spending Score (1-100)</th>\n",
       "      <th>Profession</th>\n",
       "      <th>Work Experience</th>\n",
       "      <th>Family Size</th>\n",
       "    </tr>\n",
       "  </thead>\n",
       "  <tbody>\n",
       "    <tr>\n",
       "      <th>0</th>\n",
       "      <td>1</td>\n",
       "      <td>1</td>\n",
       "      <td>19</td>\n",
       "      <td>15000</td>\n",
       "      <td>39</td>\n",
       "      <td>Healthcare</td>\n",
       "      <td>1</td>\n",
       "      <td>4</td>\n",
       "    </tr>\n",
       "    <tr>\n",
       "      <th>1</th>\n",
       "      <td>2</td>\n",
       "      <td>1</td>\n",
       "      <td>21</td>\n",
       "      <td>35000</td>\n",
       "      <td>81</td>\n",
       "      <td>Engineer</td>\n",
       "      <td>3</td>\n",
       "      <td>3</td>\n",
       "    </tr>\n",
       "  </tbody>\n",
       "</table>\n",
       "</div>"
      ],
      "text/plain": [
       "   CustomerID  Gender  Age  Annual Income ($)  Spending Score (1-100)  \\\n",
       "0           1       1   19              15000                      39   \n",
       "1           2       1   21              35000                      81   \n",
       "\n",
       "   Profession  Work Experience  Family Size  \n",
       "0  Healthcare                1            4  \n",
       "1    Engineer                3            3  "
      ]
     },
     "execution_count": 23,
     "metadata": {},
     "output_type": "execute_result"
    }
   ],
   "source": [
    "data.head(2)"
   ]
  },
  {
   "cell_type": "code",
   "execution_count": 24,
   "id": "b7a61ce3",
   "metadata": {},
   "outputs": [
    {
     "data": {
      "text/plain": [
       "Artist           612\n",
       "Healthcare       339\n",
       "Entertainment    234\n",
       "Engineer         179\n",
       "Doctor           161\n",
       "Executive        153\n",
       "Lawyer           142\n",
       "Marketing         85\n",
       "Homemaker         60\n",
       "Name: Profession, dtype: int64"
      ]
     },
     "execution_count": 24,
     "metadata": {},
     "output_type": "execute_result"
    }
   ],
   "source": [
    "data[\"Profession\"].value_counts()"
   ]
  },
  {
   "cell_type": "markdown",
   "id": "a66594f2",
   "metadata": {},
   "source": [
    "### MinMax Scaling"
   ]
  },
  {
   "cell_type": "code",
   "execution_count": 25,
   "id": "77665623",
   "metadata": {},
   "outputs": [],
   "source": [
    "from sklearn.preprocessing import MinMaxScaler"
   ]
  },
  {
   "cell_type": "code",
   "execution_count": 26,
   "id": "45d3bc65",
   "metadata": {},
   "outputs": [],
   "source": [
    "def Minmaxscaler(x):\n",
    "    data_numerical=data[data.describe().columns]\n",
    "    mn=MinMaxScaler()\n",
    "    mn.fit(data_numerical)\n",
    "    mn.transform(data_numerical)\n",
    "    data_Minmaxscale=pd.DataFrame(mn.transform(data_numerical),columns=data_numerical.columns)\n",
    "    return data_Minmaxscale"
   ]
  },
  {
   "cell_type": "code",
   "execution_count": 27,
   "id": "1f3df02f",
   "metadata": {},
   "outputs": [],
   "source": [
    "data2=Minmaxscaler(data)"
   ]
  },
  {
   "cell_type": "code",
   "execution_count": 28,
   "id": "9a073d1c",
   "metadata": {},
   "outputs": [
    {
     "data": {
      "text/html": [
       "<div>\n",
       "<style scoped>\n",
       "    .dataframe tbody tr th:only-of-type {\n",
       "        vertical-align: middle;\n",
       "    }\n",
       "\n",
       "    .dataframe tbody tr th {\n",
       "        vertical-align: top;\n",
       "    }\n",
       "\n",
       "    .dataframe thead th {\n",
       "        text-align: right;\n",
       "    }\n",
       "</style>\n",
       "<table border=\"1\" class=\"dataframe\">\n",
       "  <thead>\n",
       "    <tr style=\"text-align: right;\">\n",
       "      <th></th>\n",
       "      <th>CustomerID</th>\n",
       "      <th>Gender</th>\n",
       "      <th>Age</th>\n",
       "      <th>Annual Income ($)</th>\n",
       "      <th>Spending Score (1-100)</th>\n",
       "      <th>Work Experience</th>\n",
       "      <th>Family Size</th>\n",
       "    </tr>\n",
       "  </thead>\n",
       "  <tbody>\n",
       "    <tr>\n",
       "      <th>0</th>\n",
       "      <td>0.000000</td>\n",
       "      <td>1.0</td>\n",
       "      <td>0.191919</td>\n",
       "      <td>0.078958</td>\n",
       "      <td>0.39</td>\n",
       "      <td>0.058824</td>\n",
       "      <td>0.375</td>\n",
       "    </tr>\n",
       "    <tr>\n",
       "      <th>1</th>\n",
       "      <td>0.000500</td>\n",
       "      <td>1.0</td>\n",
       "      <td>0.212121</td>\n",
       "      <td>0.184236</td>\n",
       "      <td>0.81</td>\n",
       "      <td>0.176471</td>\n",
       "      <td>0.250</td>\n",
       "    </tr>\n",
       "    <tr>\n",
       "      <th>2</th>\n",
       "      <td>0.001001</td>\n",
       "      <td>0.0</td>\n",
       "      <td>0.202020</td>\n",
       "      <td>0.452694</td>\n",
       "      <td>0.06</td>\n",
       "      <td>0.058824</td>\n",
       "      <td>0.000</td>\n",
       "    </tr>\n",
       "    <tr>\n",
       "      <th>3</th>\n",
       "      <td>0.001501</td>\n",
       "      <td>0.0</td>\n",
       "      <td>0.232323</td>\n",
       "      <td>0.310569</td>\n",
       "      <td>0.77</td>\n",
       "      <td>0.000000</td>\n",
       "      <td>0.125</td>\n",
       "    </tr>\n",
       "    <tr>\n",
       "      <th>4</th>\n",
       "      <td>0.002001</td>\n",
       "      <td>0.0</td>\n",
       "      <td>0.313131</td>\n",
       "      <td>0.200027</td>\n",
       "      <td>0.40</td>\n",
       "      <td>0.117647</td>\n",
       "      <td>0.625</td>\n",
       "    </tr>\n",
       "  </tbody>\n",
       "</table>\n",
       "</div>"
      ],
      "text/plain": [
       "   CustomerID  Gender       Age  Annual Income ($)  Spending Score (1-100)  \\\n",
       "0    0.000000     1.0  0.191919           0.078958                    0.39   \n",
       "1    0.000500     1.0  0.212121           0.184236                    0.81   \n",
       "2    0.001001     0.0  0.202020           0.452694                    0.06   \n",
       "3    0.001501     0.0  0.232323           0.310569                    0.77   \n",
       "4    0.002001     0.0  0.313131           0.200027                    0.40   \n",
       "\n",
       "   Work Experience  Family Size  \n",
       "0         0.058824        0.375  \n",
       "1         0.176471        0.250  \n",
       "2         0.058824        0.000  \n",
       "3         0.000000        0.125  \n",
       "4         0.117647        0.625  "
      ]
     },
     "execution_count": 28,
     "metadata": {},
     "output_type": "execute_result"
    }
   ],
   "source": [
    "data2.head()"
   ]
  },
  {
   "cell_type": "markdown",
   "id": "f033a55e",
   "metadata": {},
   "source": [
    "## Exploratory Data Analysis"
   ]
  },
  {
   "cell_type": "markdown",
   "id": "df58d425",
   "metadata": {},
   "source": [
    "### Univariate Analysis"
   ]
  },
  {
   "cell_type": "markdown",
   "id": "69acf5ce",
   "metadata": {},
   "source": [
    "#### Gender"
   ]
  },
  {
   "cell_type": "code",
   "execution_count": 29,
   "id": "ef0899e1",
   "metadata": {},
   "outputs": [
    {
     "data": {
      "text/plain": [
       "0    1186\n",
       "1     814\n",
       "Name: Gender, dtype: int64"
      ]
     },
     "execution_count": 29,
     "metadata": {},
     "output_type": "execute_result"
    }
   ],
   "source": [
    "data[\"Gender\"].value_counts()"
   ]
  },
  {
   "cell_type": "code",
   "execution_count": 30,
   "id": "5f5236fa",
   "metadata": {},
   "outputs": [
    {
     "data": {
      "text/plain": [
       "0    0.593\n",
       "1    0.407\n",
       "Name: Gender, dtype: float64"
      ]
     },
     "execution_count": 30,
     "metadata": {},
     "output_type": "execute_result"
    }
   ],
   "source": [
    "data[\"Gender\"].value_counts(normalize=True)"
   ]
  },
  {
   "cell_type": "code",
   "execution_count": 31,
   "id": "c9323bcc",
   "metadata": {},
   "outputs": [
    {
     "data": {
      "text/plain": [
       "<AxesSubplot:xlabel='Gender', ylabel='count'>"
      ]
     },
     "execution_count": 31,
     "metadata": {},
     "output_type": "execute_result"
    },
    {
     "data": {
      "image/png": "[encoded data removed]",
      "text/plain": [
       "<Figure size 640x480 with 1 Axes>"
      ]
     },
     "metadata": {},
     "output_type": "display_data"
    }
   ],
   "source": [
    "sns.countplot(data[\"Gender\"])"
   ]
  },
  {
   "cell_type": "markdown",
   "id": "09097f4f",
   "metadata": {},
   "source": [
    "1.upto 20% more no of customers are from female than male"
   ]
  },
  {
   "cell_type": "markdown",
   "id": "a7d0beeb",
   "metadata": {},
   "source": [
    "#### Age"
   ]
  },
  {
   "cell_type": "code",
   "execution_count": 32,
   "id": "782749a4",
   "metadata": {},
   "outputs": [
    {
     "data": {
      "text/plain": [
       "<AxesSubplot:xlabel='Age', ylabel='Count'>"
      ]
     },
     "execution_count": 32,
     "metadata": {},
     "output_type": "execute_result"
    },
    {
     "data": {
      "image/png": "[encoded data removed]",
      "text/plain": [
       "<Figure size 1400x600 with 1 Axes>"
      ]
     },
     "metadata": {},
     "output_type": "display_data"
    }
   ],
   "source": [
    "plt.figure(figsize=(14,6))\n",
    "sns.histplot(data[\"Age\"])"
   ]
  },
  {
   "cell_type": "markdown",
   "id": "026aa021",
   "metadata": {},
   "source": [
    "1.We can see the highest customers are from age group 28 to 38"
   ]
  },
  {
   "cell_type": "code",
   "execution_count": 33,
   "id": "b056641a",
   "metadata": {},
   "outputs": [
    {
     "data": {
      "text/plain": [
       "<AxesSubplot:xlabel='Profession', ylabel='count'>"
      ]
     },
     "execution_count": 33,
     "metadata": {},
     "output_type": "execute_result"
    },
    {
     "data": {
      "image/png": "[encoded data removed]",
      "text/plain": [
       "<Figure size 1600x400 with 1 Axes>"
      ]
     },
     "metadata": {},
     "output_type": "display_data"
    }
   ],
   "source": [
    "plt.figure(figsize=(16,4))\n",
    "sns.countplot(data[\"Profession\"])"
   ]
  },
  {
   "cell_type": "markdown",
   "id": "5d44009c",
   "metadata": {},
   "source": [
    "1. from above graph we can see the \"Artist profession\" has more customers comparing to others\n",
    "2. Whereas the minimum customers are from \"Homemaker\""
   ]
  },
  {
   "cell_type": "markdown",
   "id": "3c0c1616",
   "metadata": {},
   "source": [
    "#### Annual Income"
   ]
  },
  {
   "cell_type": "code",
   "execution_count": 34,
   "id": "7241f1d1",
   "metadata": {},
   "outputs": [
    {
     "data": {
      "text/plain": [
       "Index(['CustomerID', 'Gender', 'Age', 'Annual Income ($)',\n",
       "       'Spending Score (1-100)', 'Profession', 'Work Experience',\n",
       "       'Family Size'],\n",
       "      dtype='object')"
      ]
     },
     "execution_count": 34,
     "metadata": {},
     "output_type": "execute_result"
    }
   ],
   "source": [
    "data.columns"
   ]
  },
  {
   "cell_type": "code",
   "execution_count": 35,
   "id": "32ff48b4",
   "metadata": {},
   "outputs": [
    {
     "data": {
      "text/plain": [
       "<AxesSubplot:xlabel='Annual Income ($)', ylabel='Count'>"
      ]
     },
     "execution_count": 35,
     "metadata": {},
     "output_type": "execute_result"
    },
    {
     "data": {
      "image/png": "[encoded data removed]",
      "text/plain": [
       "<Figure size 1000x600 with 1 Axes>"
      ]
     },
     "metadata": {},
     "output_type": "display_data"
    }
   ],
   "source": [
    "plt.figure(figsize=(10,6))\n",
    "sns.histplot(data[\"Annual Income ($)\"])"
   ]
  },
  {
   "cell_type": "code",
   "execution_count": 36,
   "id": "8cad8b4e",
   "metadata": {},
   "outputs": [
    {
     "data": {
      "text/plain": [
       "3.85"
      ]
     },
     "execution_count": 36,
     "metadata": {},
     "output_type": "execute_result"
    }
   ],
   "source": [
    "((data[data['Annual Income ($)']<30000].shape[0])/data.shape[0])*100"
   ]
  },
  {
   "cell_type": "code",
   "execution_count": 37,
   "id": "26d647e0",
   "metadata": {},
   "outputs": [
    {
     "data": {
      "text/plain": [
       "96.1"
      ]
     },
     "execution_count": 37,
     "metadata": {},
     "output_type": "execute_result"
    }
   ],
   "source": [
    "((data[data['Annual Income ($)']>30000].shape[0])/data.shape[0])*100"
   ]
  },
  {
   "cell_type": "markdown",
   "id": "13866b1f",
   "metadata": {},
   "source": [
    "1. So from the above information we can say that about 96% customers has above \"30000\" dollars  annual income\n",
    "2. 4% customers has less than \"30000\" dollars  annual income"
   ]
  },
  {
   "cell_type": "code",
   "execution_count": 38,
   "id": "c002dd5c",
   "metadata": {},
   "outputs": [
    {
     "data": {
      "text/plain": [
       "<AxesSubplot:xlabel='Spending Score (1-100)'>"
      ]
     },
     "execution_count": 38,
     "metadata": {},
     "output_type": "execute_result"
    },
    {
     "data": {
      "image/png": "[encoded data removed]",
      "text/plain": [
       "<Figure size 1000x500 with 1 Axes>"
      ]
     },
     "metadata": {},
     "output_type": "display_data"
    }
   ],
   "source": [
    "plt.figure(figsize=(10,5))\n",
    "sns.distplot(data['Spending Score (1-100)'],kde=False)"
   ]
  },
  {
   "cell_type": "code",
   "execution_count": 39,
   "id": "86a78151",
   "metadata": {},
   "outputs": [
    {
     "data": {
      "text/plain": [
       "17.45"
      ]
     },
     "execution_count": 39,
     "metadata": {},
     "output_type": "execute_result"
    }
   ],
   "source": [
    "(((data[(data[\"Spending Score (1-100)\"]>60) & (data[\"Spending Score (1-100)\"]<80)]).shape[0])/data.shape[0])*100"
   ]
  },
  {
   "cell_type": "code",
   "execution_count": 40,
   "id": "2b6eccf0",
   "metadata": {},
   "outputs": [
    {
     "data": {
      "text/plain": [
       "60.8"
      ]
     },
     "execution_count": 40,
     "metadata": {},
     "output_type": "execute_result"
    }
   ],
   "source": [
    "(((data[data[\"Spending Score (1-100)\"]<60]).shape[0])/data.shape[0])*100"
   ]
  },
  {
   "cell_type": "markdown",
   "id": "d9710c3e",
   "metadata": {},
   "source": [
    "### bivariate analysis"
   ]
  },
  {
   "cell_type": "markdown",
   "id": "09cbefc3",
   "metadata": {},
   "source": [
    "#### Analysis of One Continuous and One Categorical Variables"
   ]
  },
  {
   "cell_type": "code",
   "execution_count": 41,
   "id": "03c7aa23",
   "metadata": {},
   "outputs": [
    {
     "data": {
      "text/plain": [
       "Index(['CustomerID', 'Gender', 'Age', 'Annual Income ($)',\n",
       "       'Spending Score (1-100)', 'Profession', 'Work Experience',\n",
       "       'Family Size'],\n",
       "      dtype='object')"
      ]
     },
     "execution_count": 41,
     "metadata": {},
     "output_type": "execute_result"
    }
   ],
   "source": [
    "data.columns"
   ]
  },
  {
   "cell_type": "code",
   "execution_count": 42,
   "id": "d05ad0e5",
   "metadata": {},
   "outputs": [],
   "source": [
    "def Oneclassnum(x,var1,var2,choice):\n",
    "    if choice==\"violin\":\n",
    "        plt.figure(figsize=(5,4))\n",
    "        sns.violinplot(x[var1],x[var2])\n",
    "    else:\n",
    "        plt.figure(figsize=(5,4))\n",
    "        sns.barplot(x[var1],x[var2])"
   ]
  },
  {
   "cell_type": "code",
   "execution_count": 43,
   "id": "3cd9b1d1",
   "metadata": {},
   "outputs": [
    {
     "data": {
      "image/png": "[encoded data removed]",
      "text/plain": [
       "<Figure size 500x400 with 1 Axes>"
      ]
     },
     "metadata": {},
     "output_type": "display_data"
    }
   ],
   "source": [
    "Oneclassnum(data,\"Gender\",\"Annual Income ($)\",\"bar\")"
   ]
  },
  {
   "cell_type": "code",
   "execution_count": 44,
   "id": "df17c51c",
   "metadata": {},
   "outputs": [
    {
     "data": {
      "image/png": "[encoded data removed]",
      "text/plain": [
       "<Figure size 500x400 with 1 Axes>"
      ]
     },
     "metadata": {},
     "output_type": "display_data"
    }
   ],
   "source": [
    "Oneclassnum(data,\"Gender\",\"Annual Income ($)\",\"violin\")"
   ]
  },
  {
   "cell_type": "markdown",
   "id": "388a74e5",
   "metadata": {},
   "source": [
    "1. both male and female has high salary from 500000 to 180000 dollars\n",
    "2. there less customers who has salary above 200000 dollars"
   ]
  },
  {
   "cell_type": "code",
   "execution_count": 45,
   "id": "cd3cb01c",
   "metadata": {},
   "outputs": [
    {
     "data": {
      "image/png": "[encoded data removed]",
      "text/plain": [
       "<Figure size 500x400 with 1 Axes>"
      ]
     },
     "metadata": {},
     "output_type": "display_data"
    }
   ],
   "source": [
    "Oneclassnum(data,\"Gender\",\"Spending Score (1-100)\",\"violin\")"
   ]
  },
  {
   "cell_type": "markdown",
   "id": "d5bf1970",
   "metadata": {},
   "source": [
    "1. Spending score is maximum same for  both genders"
   ]
  },
  {
   "cell_type": "code",
   "execution_count": 46,
   "id": "1d41dd4b",
   "metadata": {},
   "outputs": [
    {
     "data": {
      "image/png": "[encoded data removed]",
      "text/plain": [
       "<Figure size 500x400 with 1 Axes>"
      ]
     },
     "metadata": {},
     "output_type": "display_data"
    }
   ],
   "source": [
    "Oneclassnum(data,\"Gender\",\"Work Experience\",\"violin\")"
   ]
  },
  {
   "cell_type": "code",
   "execution_count": 47,
   "id": "9dbe3138",
   "metadata": {},
   "outputs": [
    {
     "data": {
      "image/png": "[encoded data removed]",
      "text/plain": [
       "<Figure size 500x400 with 1 Axes>"
      ]
     },
     "metadata": {},
     "output_type": "display_data"
    }
   ],
   "source": [
    "Oneclassnum(data,\"Gender\",\"Age\",\"violin\")"
   ]
  },
  {
   "cell_type": "markdown",
   "id": "d4fa468f",
   "metadata": {},
   "source": [
    "1. we can spenders of male are more between the score 0-20 than female.\n",
    "2. both customers has high score between 25-60.\n",
    "3. less score for above 100."
   ]
  },
  {
   "cell_type": "markdown",
   "id": "bf622f70",
   "metadata": {},
   "source": [
    "### Two Continuous Variables"
   ]
  },
  {
   "cell_type": "code",
   "execution_count": 48,
   "id": "24aa20bd",
   "metadata": {},
   "outputs": [],
   "source": [
    "def two_cont(x,var1,var2,choice):\n",
    "    if choice==\"seaborn\":\n",
    "        plt.figure(figsize=(8,5))\n",
    "        sns.scatterplot(x[var1],x[var2])\n",
    "    else:\n",
    "        plt.figure(figsize=(8,5))\n",
    "        plt.scatter(x[var1],x[var2])\n",
    "        plt.show()\n"
   ]
  },
  {
   "cell_type": "code",
   "execution_count": 49,
   "id": "84c41f8f",
   "metadata": {},
   "outputs": [
    {
     "data": {
      "image/png": "[encoded data removed]",
      "text/plain": [
       "<Figure size 800x500 with 1 Axes>"
      ]
     },
     "metadata": {},
     "output_type": "display_data"
    }
   ],
   "source": [
    "two_cont(data,\"Annual Income ($)\",\"Spending Score (1-100)\",\"seaborn\")"
   ]
  },
  {
   "cell_type": "markdown",
   "id": "c1179751",
   "metadata": {},
   "source": [
    "1. The spenders are low with income above 0 to below 50000\n",
    "2. Whereas the spenders are high with high income\n"
   ]
  },
  {
   "cell_type": "markdown",
   "id": "0ac8c2f4",
   "metadata": {},
   "source": [
    "## Model Building"
   ]
  },
  {
   "cell_type": "markdown",
   "id": "b398ded7",
   "metadata": {},
   "source": [
    "### Forming the clusters using K-elbow method"
   ]
  },
  {
   "cell_type": "code",
   "execution_count": 50,
   "id": "edf9ffce",
   "metadata": {},
   "outputs": [
    {
     "data": {
      "text/html": [
       "<div>\n",
       "<style scoped>\n",
       "    .dataframe tbody tr th:only-of-type {\n",
       "        vertical-align: middle;\n",
       "    }\n",
       "\n",
       "    .dataframe tbody tr th {\n",
       "        vertical-align: top;\n",
       "    }\n",
       "\n",
       "    .dataframe thead th {\n",
       "        text-align: right;\n",
       "    }\n",
       "</style>\n",
       "<table border=\"1\" class=\"dataframe\">\n",
       "  <thead>\n",
       "    <tr style=\"text-align: right;\">\n",
       "      <th></th>\n",
       "      <th>CustomerID</th>\n",
       "      <th>Gender</th>\n",
       "      <th>Age</th>\n",
       "      <th>Annual Income ($)</th>\n",
       "      <th>Spending Score (1-100)</th>\n",
       "      <th>Work Experience</th>\n",
       "      <th>Family Size</th>\n",
       "    </tr>\n",
       "  </thead>\n",
       "  <tbody>\n",
       "    <tr>\n",
       "      <th>0</th>\n",
       "      <td>0.000000</td>\n",
       "      <td>1.0</td>\n",
       "      <td>0.191919</td>\n",
       "      <td>0.078958</td>\n",
       "      <td>0.39</td>\n",
       "      <td>0.058824</td>\n",
       "      <td>0.375</td>\n",
       "    </tr>\n",
       "    <tr>\n",
       "      <th>1</th>\n",
       "      <td>0.000500</td>\n",
       "      <td>1.0</td>\n",
       "      <td>0.212121</td>\n",
       "      <td>0.184236</td>\n",
       "      <td>0.81</td>\n",
       "      <td>0.176471</td>\n",
       "      <td>0.250</td>\n",
       "    </tr>\n",
       "    <tr>\n",
       "      <th>2</th>\n",
       "      <td>0.001001</td>\n",
       "      <td>0.0</td>\n",
       "      <td>0.202020</td>\n",
       "      <td>0.452694</td>\n",
       "      <td>0.06</td>\n",
       "      <td>0.058824</td>\n",
       "      <td>0.000</td>\n",
       "    </tr>\n",
       "  </tbody>\n",
       "</table>\n",
       "</div>"
      ],
      "text/plain": [
       "   CustomerID  Gender       Age  Annual Income ($)  Spending Score (1-100)  \\\n",
       "0    0.000000     1.0  0.191919           0.078958                    0.39   \n",
       "1    0.000500     1.0  0.212121           0.184236                    0.81   \n",
       "2    0.001001     0.0  0.202020           0.452694                    0.06   \n",
       "\n",
       "   Work Experience  Family Size  \n",
       "0         0.058824        0.375  \n",
       "1         0.176471        0.250  \n",
       "2         0.058824        0.000  "
      ]
     },
     "execution_count": 50,
     "metadata": {},
     "output_type": "execute_result"
    }
   ],
   "source": [
    "data2.head(3)"
   ]
  },
  {
   "cell_type": "code",
   "execution_count": 51,
   "id": "796aa9af",
   "metadata": {},
   "outputs": [],
   "source": [
    "data2=data2.drop(\"CustomerID\",axis=1)"
   ]
  },
  {
   "cell_type": "code",
   "execution_count": 52,
   "id": "7df59c94",
   "metadata": {},
   "outputs": [
    {
     "data": {
      "text/html": [
       "<div>\n",
       "<style scoped>\n",
       "    .dataframe tbody tr th:only-of-type {\n",
       "        vertical-align: middle;\n",
       "    }\n",
       "\n",
       "    .dataframe tbody tr th {\n",
       "        vertical-align: top;\n",
       "    }\n",
       "\n",
       "    .dataframe thead th {\n",
       "        text-align: right;\n",
       "    }\n",
       "</style>\n",
       "<table border=\"1\" class=\"dataframe\">\n",
       "  <thead>\n",
       "    <tr style=\"text-align: right;\">\n",
       "      <th></th>\n",
       "      <th>Gender</th>\n",
       "      <th>Age</th>\n",
       "      <th>Annual Income ($)</th>\n",
       "      <th>Spending Score (1-100)</th>\n",
       "      <th>Work Experience</th>\n",
       "      <th>Family Size</th>\n",
       "    </tr>\n",
       "  </thead>\n",
       "  <tbody>\n",
       "    <tr>\n",
       "      <th>0</th>\n",
       "      <td>1.0</td>\n",
       "      <td>0.191919</td>\n",
       "      <td>0.078958</td>\n",
       "      <td>0.39</td>\n",
       "      <td>0.058824</td>\n",
       "      <td>0.375</td>\n",
       "    </tr>\n",
       "    <tr>\n",
       "      <th>1</th>\n",
       "      <td>1.0</td>\n",
       "      <td>0.212121</td>\n",
       "      <td>0.184236</td>\n",
       "      <td>0.81</td>\n",
       "      <td>0.176471</td>\n",
       "      <td>0.250</td>\n",
       "    </tr>\n",
       "    <tr>\n",
       "      <th>2</th>\n",
       "      <td>0.0</td>\n",
       "      <td>0.202020</td>\n",
       "      <td>0.452694</td>\n",
       "      <td>0.06</td>\n",
       "      <td>0.058824</td>\n",
       "      <td>0.000</td>\n",
       "    </tr>\n",
       "  </tbody>\n",
       "</table>\n",
       "</div>"
      ],
      "text/plain": [
       "   Gender       Age  Annual Income ($)  Spending Score (1-100)  \\\n",
       "0     1.0  0.191919           0.078958                    0.39   \n",
       "1     1.0  0.212121           0.184236                    0.81   \n",
       "2     0.0  0.202020           0.452694                    0.06   \n",
       "\n",
       "   Work Experience  Family Size  \n",
       "0         0.058824        0.375  \n",
       "1         0.176471        0.250  \n",
       "2         0.058824        0.000  "
      ]
     },
     "execution_count": 52,
     "metadata": {},
     "output_type": "execute_result"
    }
   ],
   "source": [
    "data2.head(3)"
   ]
  },
  {
   "cell_type": "code",
   "execution_count": 53,
   "id": "caffc0cb",
   "metadata": {},
   "outputs": [],
   "source": [
    "from sklearn.cluster import KMeans"
   ]
  },
  {
   "cell_type": "code",
   "execution_count": 54,
   "id": "ff44e54d",
   "metadata": {},
   "outputs": [],
   "source": [
    "clusters=[]\n",
    "for i in range (1,11):\n",
    "    km=KMeans(n_clusters=i)\n",
    "    km.fit(data2)\n",
    "    clusters.append(km.inertia_)"
   ]
  },
  {
   "cell_type": "code",
   "execution_count": 58,
   "id": "e3f7be6f",
   "metadata": {},
   "outputs": [
    {
     "data": {
      "text/plain": [
       "[1147.1405534623138,\n",
       " 664.3849764683073,\n",
       " 592.4709484166781,\n",
       " 538.9423029101591,\n",
       " 495.8881871546383,\n",
       " 465.8081749391066,\n",
       " 438.07850596313,\n",
       " 415.7278118013229,\n",
       " 398.0281627095748,\n",
       " 381.2239771578829]"
      ]
     },
     "execution_count": 58,
     "metadata": {},
     "output_type": "execute_result"
    }
   ],
   "source": [
    "clusters"
   ]
  },
  {
   "cell_type": "code",
   "execution_count": 59,
   "id": "9ac86576",
   "metadata": {},
   "outputs": [
    {
     "data": {
      "text/plain": [
       "Text(0, 0.5, 'sum_of_squared_distances')"
      ]
     },
     "execution_count": 59,
     "metadata": {},
     "output_type": "execute_result"
    },
    {
     "data": {
      "image/png": "[encoded data removed]",
      "text/plain": [
       "<Figure size 640x480 with 1 Axes>"
      ]
     },
     "metadata": {},
     "output_type": "display_data"
    }
   ],
   "source": [
    "plt.plot(clusters)\n",
    "plt.xlabel(\"no.of clusters\")\n",
    "plt.ylabel(\"sum_of_squared_distances\")\n",
    "        "
   ]
  },
  {
   "cell_type": "markdown",
   "id": "e3328f42",
   "metadata": {},
   "source": [
    "### Forming 4 clusters"
   ]
  },
  {
   "cell_type": "code",
   "execution_count": 60,
   "id": "629821b1",
   "metadata": {
    "scrolled": true
   },
   "outputs": [
    {
     "data": {
      "text/html": [
       "<div>\n",
       "<style scoped>\n",
       "    .dataframe tbody tr th:only-of-type {\n",
       "        vertical-align: middle;\n",
       "    }\n",
       "\n",
       "    .dataframe tbody tr th {\n",
       "        vertical-align: top;\n",
       "    }\n",
       "\n",
       "    .dataframe thead th {\n",
       "        text-align: right;\n",
       "    }\n",
       "</style>\n",
       "<table border=\"1\" class=\"dataframe\">\n",
       "  <thead>\n",
       "    <tr style=\"text-align: right;\">\n",
       "      <th></th>\n",
       "      <th>CustomerID</th>\n",
       "      <th>Gender</th>\n",
       "      <th>Age</th>\n",
       "      <th>Annual Income ($)</th>\n",
       "      <th>Spending Score (1-100)</th>\n",
       "      <th>Profession</th>\n",
       "      <th>Work Experience</th>\n",
       "      <th>Family Size</th>\n",
       "    </tr>\n",
       "  </thead>\n",
       "  <tbody>\n",
       "    <tr>\n",
       "      <th>0</th>\n",
       "      <td>1</td>\n",
       "      <td>1</td>\n",
       "      <td>19</td>\n",
       "      <td>15000</td>\n",
       "      <td>39</td>\n",
       "      <td>Healthcare</td>\n",
       "      <td>1</td>\n",
       "      <td>4</td>\n",
       "    </tr>\n",
       "    <tr>\n",
       "      <th>1</th>\n",
       "      <td>2</td>\n",
       "      <td>1</td>\n",
       "      <td>21</td>\n",
       "      <td>35000</td>\n",
       "      <td>81</td>\n",
       "      <td>Engineer</td>\n",
       "      <td>3</td>\n",
       "      <td>3</td>\n",
       "    </tr>\n",
       "    <tr>\n",
       "      <th>2</th>\n",
       "      <td>3</td>\n",
       "      <td>0</td>\n",
       "      <td>20</td>\n",
       "      <td>86000</td>\n",
       "      <td>6</td>\n",
       "      <td>Engineer</td>\n",
       "      <td>1</td>\n",
       "      <td>1</td>\n",
       "    </tr>\n",
       "    <tr>\n",
       "      <th>3</th>\n",
       "      <td>4</td>\n",
       "      <td>0</td>\n",
       "      <td>23</td>\n",
       "      <td>59000</td>\n",
       "      <td>77</td>\n",
       "      <td>Lawyer</td>\n",
       "      <td>0</td>\n",
       "      <td>2</td>\n",
       "    </tr>\n",
       "    <tr>\n",
       "      <th>4</th>\n",
       "      <td>5</td>\n",
       "      <td>0</td>\n",
       "      <td>31</td>\n",
       "      <td>38000</td>\n",
       "      <td>40</td>\n",
       "      <td>Entertainment</td>\n",
       "      <td>2</td>\n",
       "      <td>6</td>\n",
       "    </tr>\n",
       "  </tbody>\n",
       "</table>\n",
       "</div>"
      ],
      "text/plain": [
       "   CustomerID  Gender  Age  Annual Income ($)  Spending Score (1-100)  \\\n",
       "0           1       1   19              15000                      39   \n",
       "1           2       1   21              35000                      81   \n",
       "2           3       0   20              86000                       6   \n",
       "3           4       0   23              59000                      77   \n",
       "4           5       0   31              38000                      40   \n",
       "\n",
       "      Profession  Work Experience  Family Size  \n",
       "0     Healthcare                1            4  \n",
       "1       Engineer                3            3  \n",
       "2       Engineer                1            1  \n",
       "3         Lawyer                0            2  \n",
       "4  Entertainment                2            6  "
      ]
     },
     "execution_count": 60,
     "metadata": {},
     "output_type": "execute_result"
    }
   ],
   "source": [
    "data.head()"
   ]
  },
  {
   "cell_type": "code",
   "execution_count": 61,
   "id": "afe9a0c9",
   "metadata": {},
   "outputs": [],
   "source": [
    "data=data.drop([\"CustomerID\",\"Profession\"],axis=1)"
   ]
  },
  {
   "cell_type": "code",
   "execution_count": 62,
   "id": "146b77d1",
   "metadata": {},
   "outputs": [
    {
     "data": {
      "text/plain": [
       "array([2, 2, 0, ..., 0, 1, 3])"
      ]
     },
     "execution_count": 62,
     "metadata": {},
     "output_type": "execute_result"
    }
   ],
   "source": [
    "km=KMeans(n_clusters=4)\n",
    "km.fit(data)\n",
    "km.labels_\n"
   ]
  },
  {
   "cell_type": "code",
   "execution_count": 63,
   "id": "f7e59a06",
   "metadata": {},
   "outputs": [],
   "source": [
    "data[\"cluster\"]=km.labels_"
   ]
  },
  {
   "cell_type": "code",
   "execution_count": 64,
   "id": "86070bf1",
   "metadata": {},
   "outputs": [
    {
     "data": {
      "text/html": [
       "<div>\n",
       "<style scoped>\n",
       "    .dataframe tbody tr th:only-of-type {\n",
       "        vertical-align: middle;\n",
       "    }\n",
       "\n",
       "    .dataframe tbody tr th {\n",
       "        vertical-align: top;\n",
       "    }\n",
       "\n",
       "    .dataframe thead th {\n",
       "        text-align: right;\n",
       "    }\n",
       "</style>\n",
       "<table border=\"1\" class=\"dataframe\">\n",
       "  <thead>\n",
       "    <tr style=\"text-align: right;\">\n",
       "      <th></th>\n",
       "      <th>Gender</th>\n",
       "      <th>Age</th>\n",
       "      <th>Annual Income ($)</th>\n",
       "      <th>Spending Score (1-100)</th>\n",
       "      <th>Work Experience</th>\n",
       "      <th>Family Size</th>\n",
       "      <th>cluster</th>\n",
       "    </tr>\n",
       "  </thead>\n",
       "  <tbody>\n",
       "    <tr>\n",
       "      <th>0</th>\n",
       "      <td>1</td>\n",
       "      <td>19</td>\n",
       "      <td>15000</td>\n",
       "      <td>39</td>\n",
       "      <td>1</td>\n",
       "      <td>4</td>\n",
       "      <td>2</td>\n",
       "    </tr>\n",
       "    <tr>\n",
       "      <th>1</th>\n",
       "      <td>1</td>\n",
       "      <td>21</td>\n",
       "      <td>35000</td>\n",
       "      <td>81</td>\n",
       "      <td>3</td>\n",
       "      <td>3</td>\n",
       "      <td>2</td>\n",
       "    </tr>\n",
       "    <tr>\n",
       "      <th>2</th>\n",
       "      <td>0</td>\n",
       "      <td>20</td>\n",
       "      <td>86000</td>\n",
       "      <td>6</td>\n",
       "      <td>1</td>\n",
       "      <td>1</td>\n",
       "      <td>0</td>\n",
       "    </tr>\n",
       "    <tr>\n",
       "      <th>3</th>\n",
       "      <td>0</td>\n",
       "      <td>23</td>\n",
       "      <td>59000</td>\n",
       "      <td>77</td>\n",
       "      <td>0</td>\n",
       "      <td>2</td>\n",
       "      <td>2</td>\n",
       "    </tr>\n",
       "    <tr>\n",
       "      <th>4</th>\n",
       "      <td>0</td>\n",
       "      <td>31</td>\n",
       "      <td>38000</td>\n",
       "      <td>40</td>\n",
       "      <td>2</td>\n",
       "      <td>6</td>\n",
       "      <td>2</td>\n",
       "    </tr>\n",
       "  </tbody>\n",
       "</table>\n",
       "</div>"
      ],
      "text/plain": [
       "   Gender  Age  Annual Income ($)  Spending Score (1-100)  Work Experience  \\\n",
       "0       1   19              15000                      39                1   \n",
       "1       1   21              35000                      81                3   \n",
       "2       0   20              86000                       6                1   \n",
       "3       0   23              59000                      77                0   \n",
       "4       0   31              38000                      40                2   \n",
       "\n",
       "   Family Size  cluster  \n",
       "0            4        2  \n",
       "1            3        2  \n",
       "2            1        0  \n",
       "3            2        2  \n",
       "4            6        2  "
      ]
     },
     "execution_count": 64,
     "metadata": {},
     "output_type": "execute_result"
    }
   ],
   "source": [
    "data.head()"
   ]
  },
  {
   "cell_type": "code",
   "execution_count": 65,
   "id": "e245b7b6",
   "metadata": {},
   "outputs": [
    {
     "data": {
      "text/html": [
       "<div>\n",
       "<style scoped>\n",
       "    .dataframe tbody tr th:only-of-type {\n",
       "        vertical-align: middle;\n",
       "    }\n",
       "\n",
       "    .dataframe tbody tr th {\n",
       "        vertical-align: top;\n",
       "    }\n",
       "\n",
       "    .dataframe thead th {\n",
       "        text-align: right;\n",
       "    }\n",
       "</style>\n",
       "<table border=\"1\" class=\"dataframe\">\n",
       "  <thead>\n",
       "    <tr style=\"text-align: right;\">\n",
       "      <th></th>\n",
       "      <th>Gender</th>\n",
       "      <th>Age</th>\n",
       "      <th>Annual Income ($)</th>\n",
       "      <th>Spending Score (1-100)</th>\n",
       "      <th>Work Experience</th>\n",
       "      <th>Family Size</th>\n",
       "    </tr>\n",
       "    <tr>\n",
       "      <th>cluster</th>\n",
       "      <th></th>\n",
       "      <th></th>\n",
       "      <th></th>\n",
       "      <th></th>\n",
       "      <th></th>\n",
       "      <th></th>\n",
       "    </tr>\n",
       "  </thead>\n",
       "  <tbody>\n",
       "    <tr>\n",
       "      <th>0</th>\n",
       "      <td>270</td>\n",
       "      <td>31150.0</td>\n",
       "      <td>53085290</td>\n",
       "      <td>30884.0</td>\n",
       "      <td>2513.0</td>\n",
       "      <td>2257.0</td>\n",
       "    </tr>\n",
       "    <tr>\n",
       "      <th>1</th>\n",
       "      <td>205</td>\n",
       "      <td>24322.0</td>\n",
       "      <td>84285745</td>\n",
       "      <td>25218.0</td>\n",
       "      <td>2199.0</td>\n",
       "      <td>1914.0</td>\n",
       "    </tr>\n",
       "    <tr>\n",
       "      <th>2</th>\n",
       "      <td>133</td>\n",
       "      <td>16041.0</td>\n",
       "      <td>15795212</td>\n",
       "      <td>17701.0</td>\n",
       "      <td>1157.0</td>\n",
       "      <td>1225.0</td>\n",
       "    </tr>\n",
       "    <tr>\n",
       "      <th>3</th>\n",
       "      <td>206</td>\n",
       "      <td>26407.0</td>\n",
       "      <td>68297396</td>\n",
       "      <td>28122.0</td>\n",
       "      <td>2336.0</td>\n",
       "      <td>2141.0</td>\n",
       "    </tr>\n",
       "  </tbody>\n",
       "</table>\n",
       "</div>"
      ],
      "text/plain": [
       "         Gender      Age  Annual Income ($)  Spending Score (1-100)  \\\n",
       "cluster                                                               \n",
       "0           270  31150.0           53085290                 30884.0   \n",
       "1           205  24322.0           84285745                 25218.0   \n",
       "2           133  16041.0           15795212                 17701.0   \n",
       "3           206  26407.0           68297396                 28122.0   \n",
       "\n",
       "         Work Experience  Family Size  \n",
       "cluster                                \n",
       "0                 2513.0       2257.0  \n",
       "1                 2199.0       1914.0  \n",
       "2                 1157.0       1225.0  \n",
       "3                 2336.0       2141.0  "
      ]
     },
     "execution_count": 65,
     "metadata": {},
     "output_type": "execute_result"
    }
   ],
   "source": [
    "### grouping using cluster\n",
    "data.groupby(\"cluster\").sum()"
   ]
  },
  {
   "cell_type": "code",
   "execution_count": 66,
   "id": "a2222a20",
   "metadata": {},
   "outputs": [
    {
     "data": {
      "text/html": [
       "<div>\n",
       "<style scoped>\n",
       "    .dataframe tbody tr th:only-of-type {\n",
       "        vertical-align: middle;\n",
       "    }\n",
       "\n",
       "    .dataframe tbody tr th {\n",
       "        vertical-align: top;\n",
       "    }\n",
       "\n",
       "    .dataframe thead th {\n",
       "        text-align: right;\n",
       "    }\n",
       "</style>\n",
       "<table border=\"1\" class=\"dataframe\">\n",
       "  <thead>\n",
       "    <tr style=\"text-align: right;\">\n",
       "      <th></th>\n",
       "      <th>cluster</th>\n",
       "      <th>0</th>\n",
       "      <th>1</th>\n",
       "      <th>2</th>\n",
       "      <th>3</th>\n",
       "    </tr>\n",
       "  </thead>\n",
       "  <tbody>\n",
       "    <tr>\n",
       "      <th rowspan=\"8\" valign=\"top\">Gender</th>\n",
       "      <th>count</th>\n",
       "      <td>621.000000</td>\n",
       "      <td>497.000000</td>\n",
       "      <td>352.000000</td>\n",
       "      <td>530.000000</td>\n",
       "    </tr>\n",
       "    <tr>\n",
       "      <th>mean</th>\n",
       "      <td>0.434783</td>\n",
       "      <td>0.412475</td>\n",
       "      <td>0.377841</td>\n",
       "      <td>0.388679</td>\n",
       "    </tr>\n",
       "    <tr>\n",
       "      <th>std</th>\n",
       "      <td>0.496128</td>\n",
       "      <td>0.492776</td>\n",
       "      <td>0.485538</td>\n",
       "      <td>0.487911</td>\n",
       "    </tr>\n",
       "    <tr>\n",
       "      <th>min</th>\n",
       "      <td>0.000000</td>\n",
       "      <td>0.000000</td>\n",
       "      <td>0.000000</td>\n",
       "      <td>0.000000</td>\n",
       "    </tr>\n",
       "    <tr>\n",
       "      <th>25%</th>\n",
       "      <td>0.000000</td>\n",
       "      <td>0.000000</td>\n",
       "      <td>0.000000</td>\n",
       "      <td>0.000000</td>\n",
       "    </tr>\n",
       "    <tr>\n",
       "      <th>50%</th>\n",
       "      <td>0.000000</td>\n",
       "      <td>0.000000</td>\n",
       "      <td>0.000000</td>\n",
       "      <td>0.000000</td>\n",
       "    </tr>\n",
       "    <tr>\n",
       "      <th>75%</th>\n",
       "      <td>1.000000</td>\n",
       "      <td>1.000000</td>\n",
       "      <td>1.000000</td>\n",
       "      <td>1.000000</td>\n",
       "    </tr>\n",
       "    <tr>\n",
       "      <th>max</th>\n",
       "      <td>1.000000</td>\n",
       "      <td>1.000000</td>\n",
       "      <td>1.000000</td>\n",
       "      <td>1.000000</td>\n",
       "    </tr>\n",
       "    <tr>\n",
       "      <th rowspan=\"8\" valign=\"top\">Age</th>\n",
       "      <th>count</th>\n",
       "      <td>621.000000</td>\n",
       "      <td>497.000000</td>\n",
       "      <td>352.000000</td>\n",
       "      <td>530.000000</td>\n",
       "    </tr>\n",
       "    <tr>\n",
       "      <th>mean</th>\n",
       "      <td>50.161031</td>\n",
       "      <td>48.937626</td>\n",
       "      <td>45.571023</td>\n",
       "      <td>49.824528</td>\n",
       "    </tr>\n",
       "    <tr>\n",
       "      <th>std</th>\n",
       "      <td>27.775944</td>\n",
       "      <td>29.287888</td>\n",
       "      <td>25.848023</td>\n",
       "      <td>29.872340</td>\n",
       "    </tr>\n",
       "    <tr>\n",
       "      <th>min</th>\n",
       "      <td>0.000000</td>\n",
       "      <td>0.000000</td>\n",
       "      <td>0.000000</td>\n",
       "      <td>0.000000</td>\n",
       "    </tr>\n",
       "    <tr>\n",
       "      <th>25%</th>\n",
       "      <td>28.000000</td>\n",
       "      <td>22.000000</td>\n",
       "      <td>25.000000</td>\n",
       "      <td>23.000000</td>\n",
       "    </tr>\n",
       "    <tr>\n",
       "      <th>50%</th>\n",
       "      <td>50.000000</td>\n",
       "      <td>48.000000</td>\n",
       "      <td>41.000000</td>\n",
       "      <td>52.000000</td>\n",
       "    </tr>\n",
       "    <tr>\n",
       "      <th>75%</th>\n",
       "      <td>73.000000</td>\n",
       "      <td>74.000000</td>\n",
       "      <td>65.000000</td>\n",
       "      <td>77.000000</td>\n",
       "    </tr>\n",
       "    <tr>\n",
       "      <th>max</th>\n",
       "      <td>99.000000</td>\n",
       "      <td>99.000000</td>\n",
       "      <td>99.000000</td>\n",
       "      <td>99.000000</td>\n",
       "    </tr>\n",
       "    <tr>\n",
       "      <th rowspan=\"8\" valign=\"top\">Annual Income ($)</th>\n",
       "      <th>count</th>\n",
       "      <td>621.000000</td>\n",
       "      <td>497.000000</td>\n",
       "      <td>352.000000</td>\n",
       "      <td>530.000000</td>\n",
       "    </tr>\n",
       "    <tr>\n",
       "      <th>mean</th>\n",
       "      <td>85483.558776</td>\n",
       "      <td>169589.024145</td>\n",
       "      <td>44872.761364</td>\n",
       "      <td>128863.011321</td>\n",
       "    </tr>\n",
       "    <tr>\n",
       "      <th>std</th>\n",
       "      <td>11920.738152</td>\n",
       "      <td>12055.621604</td>\n",
       "      <td>18752.980786</td>\n",
       "      <td>12291.471260</td>\n",
       "    </tr>\n",
       "    <tr>\n",
       "      <th>min</th>\n",
       "      <td>65257.000000</td>\n",
       "      <td>149318.000000</td>\n",
       "      <td>0.000000</td>\n",
       "      <td>107323.000000</td>\n",
       "    </tr>\n",
       "    <tr>\n",
       "      <th>25%</th>\n",
       "      <td>75178.000000</td>\n",
       "      <td>158372.000000</td>\n",
       "      <td>33000.000000</td>\n",
       "      <td>118093.000000</td>\n",
       "    </tr>\n",
       "    <tr>\n",
       "      <th>50%</th>\n",
       "      <td>85568.000000</td>\n",
       "      <td>170133.000000</td>\n",
       "      <td>52458.500000</td>\n",
       "      <td>129117.000000</td>\n",
       "    </tr>\n",
       "    <tr>\n",
       "      <th>75%</th>\n",
       "      <td>95000.000000</td>\n",
       "      <td>180702.000000</td>\n",
       "      <td>59022.000000</td>\n",
       "      <td>140074.250000</td>\n",
       "    </tr>\n",
       "    <tr>\n",
       "      <th>max</th>\n",
       "      <td>107117.000000</td>\n",
       "      <td>189974.000000</td>\n",
       "      <td>65207.000000</td>\n",
       "      <td>149237.000000</td>\n",
       "    </tr>\n",
       "    <tr>\n",
       "      <th rowspan=\"8\" valign=\"top\">Spending Score (1-100)</th>\n",
       "      <th>count</th>\n",
       "      <td>621.000000</td>\n",
       "      <td>497.000000</td>\n",
       "      <td>352.000000</td>\n",
       "      <td>530.000000</td>\n",
       "    </tr>\n",
       "    <tr>\n",
       "      <th>mean</th>\n",
       "      <td>49.732689</td>\n",
       "      <td>50.740443</td>\n",
       "      <td>50.286932</td>\n",
       "      <td>53.060377</td>\n",
       "    </tr>\n",
       "    <tr>\n",
       "      <th>std</th>\n",
       "      <td>27.845068</td>\n",
       "      <td>27.611194</td>\n",
       "      <td>27.787657</td>\n",
       "      <td>28.396733</td>\n",
       "    </tr>\n",
       "    <tr>\n",
       "      <th>min</th>\n",
       "      <td>1.000000</td>\n",
       "      <td>1.000000</td>\n",
       "      <td>0.000000</td>\n",
       "      <td>1.000000</td>\n",
       "    </tr>\n",
       "    <tr>\n",
       "      <th>25%</th>\n",
       "      <td>26.000000</td>\n",
       "      <td>29.000000</td>\n",
       "      <td>29.000000</td>\n",
       "      <td>30.000000</td>\n",
       "    </tr>\n",
       "    <tr>\n",
       "      <th>50%</th>\n",
       "      <td>49.000000</td>\n",
       "      <td>50.000000</td>\n",
       "      <td>50.000000</td>\n",
       "      <td>53.000000</td>\n",
       "    </tr>\n",
       "    <tr>\n",
       "      <th>75%</th>\n",
       "      <td>73.000000</td>\n",
       "      <td>76.000000</td>\n",
       "      <td>74.250000</td>\n",
       "      <td>78.000000</td>\n",
       "    </tr>\n",
       "    <tr>\n",
       "      <th>max</th>\n",
       "      <td>100.000000</td>\n",
       "      <td>100.000000</td>\n",
       "      <td>100.000000</td>\n",
       "      <td>100.000000</td>\n",
       "    </tr>\n",
       "    <tr>\n",
       "      <th rowspan=\"8\" valign=\"top\">Work Experience</th>\n",
       "      <th>count</th>\n",
       "      <td>621.000000</td>\n",
       "      <td>497.000000</td>\n",
       "      <td>352.000000</td>\n",
       "      <td>530.000000</td>\n",
       "    </tr>\n",
       "    <tr>\n",
       "      <th>mean</th>\n",
       "      <td>4.046699</td>\n",
       "      <td>4.424547</td>\n",
       "      <td>3.286932</td>\n",
       "      <td>4.407547</td>\n",
       "    </tr>\n",
       "    <tr>\n",
       "      <th>std</th>\n",
       "      <td>3.949611</td>\n",
       "      <td>4.047954</td>\n",
       "      <td>3.486245</td>\n",
       "      <td>3.972964</td>\n",
       "    </tr>\n",
       "    <tr>\n",
       "      <th>min</th>\n",
       "      <td>0.000000</td>\n",
       "      <td>0.000000</td>\n",
       "      <td>0.000000</td>\n",
       "      <td>0.000000</td>\n",
       "    </tr>\n",
       "    <tr>\n",
       "      <th>25%</th>\n",
       "      <td>1.000000</td>\n",
       "      <td>1.000000</td>\n",
       "      <td>0.000000</td>\n",
       "      <td>1.000000</td>\n",
       "    </tr>\n",
       "    <tr>\n",
       "      <th>50%</th>\n",
       "      <td>3.000000</td>\n",
       "      <td>4.000000</td>\n",
       "      <td>1.000000</td>\n",
       "      <td>4.000000</td>\n",
       "    </tr>\n",
       "    <tr>\n",
       "      <th>75%</th>\n",
       "      <td>7.000000</td>\n",
       "      <td>8.000000</td>\n",
       "      <td>6.000000</td>\n",
       "      <td>8.000000</td>\n",
       "    </tr>\n",
       "    <tr>\n",
       "      <th>max</th>\n",
       "      <td>17.000000</td>\n",
       "      <td>17.000000</td>\n",
       "      <td>14.000000</td>\n",
       "      <td>17.000000</td>\n",
       "    </tr>\n",
       "    <tr>\n",
       "      <th rowspan=\"8\" valign=\"top\">Family Size</th>\n",
       "      <th>count</th>\n",
       "      <td>621.000000</td>\n",
       "      <td>497.000000</td>\n",
       "      <td>352.000000</td>\n",
       "      <td>530.000000</td>\n",
       "    </tr>\n",
       "    <tr>\n",
       "      <th>mean</th>\n",
       "      <td>3.634461</td>\n",
       "      <td>3.851107</td>\n",
       "      <td>3.480114</td>\n",
       "      <td>4.039623</td>\n",
       "    </tr>\n",
       "    <tr>\n",
       "      <th>std</th>\n",
       "      <td>1.964205</td>\n",
       "      <td>1.983288</td>\n",
       "      <td>1.882488</td>\n",
       "      <td>1.989656</td>\n",
       "    </tr>\n",
       "    <tr>\n",
       "      <th>min</th>\n",
       "      <td>1.000000</td>\n",
       "      <td>1.000000</td>\n",
       "      <td>1.000000</td>\n",
       "      <td>1.000000</td>\n",
       "    </tr>\n",
       "    <tr>\n",
       "      <th>25%</th>\n",
       "      <td>2.000000</td>\n",
       "      <td>2.000000</td>\n",
       "      <td>2.000000</td>\n",
       "      <td>2.000000</td>\n",
       "    </tr>\n",
       "    <tr>\n",
       "      <th>50%</th>\n",
       "      <td>3.000000</td>\n",
       "      <td>4.000000</td>\n",
       "      <td>3.000000</td>\n",
       "      <td>4.000000</td>\n",
       "    </tr>\n",
       "    <tr>\n",
       "      <th>75%</th>\n",
       "      <td>5.000000</td>\n",
       "      <td>6.000000</td>\n",
       "      <td>5.000000</td>\n",
       "      <td>6.000000</td>\n",
       "    </tr>\n",
       "    <tr>\n",
       "      <th>max</th>\n",
       "      <td>8.000000</td>\n",
       "      <td>7.000000</td>\n",
       "      <td>9.000000</td>\n",
       "      <td>8.000000</td>\n",
       "    </tr>\n",
       "  </tbody>\n",
       "</table>\n",
       "</div>"
      ],
      "text/plain": [
       "cluster                                   0              1             2  \\\n",
       "Gender                 count     621.000000     497.000000    352.000000   \n",
       "                       mean        0.434783       0.412475      0.377841   \n",
       "                       std         0.496128       0.492776      0.485538   \n",
       "                       min         0.000000       0.000000      0.000000   \n",
       "                       25%         0.000000       0.000000      0.000000   \n",
       "                       50%         0.000000       0.000000      0.000000   \n",
       "                       75%         1.000000       1.000000      1.000000   \n",
       "                       max         1.000000       1.000000      1.000000   \n",
       "Age                    count     621.000000     497.000000    352.000000   \n",
       "                       mean       50.161031      48.937626     45.571023   \n",
       "                       std        27.775944      29.287888     25.848023   \n",
       "                       min         0.000000       0.000000      0.000000   \n",
       "                       25%        28.000000      22.000000     25.000000   \n",
       "                       50%        50.000000      48.000000     41.000000   \n",
       "                       75%        73.000000      74.000000     65.000000   \n",
       "                       max        99.000000      99.000000     99.000000   \n",
       "Annual Income ($)      count     621.000000     497.000000    352.000000   \n",
       "                       mean    85483.558776  169589.024145  44872.761364   \n",
       "                       std     11920.738152   12055.621604  18752.980786   \n",
       "                       min     65257.000000  149318.000000      0.000000   \n",
       "                       25%     75178.000000  158372.000000  33000.000000   \n",
       "                       50%     85568.000000  170133.000000  52458.500000   \n",
       "                       75%     95000.000000  180702.000000  59022.000000   \n",
       "                       max    107117.000000  189974.000000  65207.000000   \n",
       "Spending Score (1-100) count     621.000000     497.000000    352.000000   \n",
       "                       mean       49.732689      50.740443     50.286932   \n",
       "                       std        27.845068      27.611194     27.787657   \n",
       "                       min         1.000000       1.000000      0.000000   \n",
       "                       25%        26.000000      29.000000     29.000000   \n",
       "                       50%        49.000000      50.000000     50.000000   \n",
       "                       75%        73.000000      76.000000     74.250000   \n",
       "                       max       100.000000     100.000000    100.000000   \n",
       "Work Experience        count     621.000000     497.000000    352.000000   \n",
       "                       mean        4.046699       4.424547      3.286932   \n",
       "                       std         3.949611       4.047954      3.486245   \n",
       "                       min         0.000000       0.000000      0.000000   \n",
       "                       25%         1.000000       1.000000      0.000000   \n",
       "                       50%         3.000000       4.000000      1.000000   \n",
       "                       75%         7.000000       8.000000      6.000000   \n",
       "                       max        17.000000      17.000000     14.000000   \n",
       "Family Size            count     621.000000     497.000000    352.000000   \n",
       "                       mean        3.634461       3.851107      3.480114   \n",
       "                       std         1.964205       1.983288      1.882488   \n",
       "                       min         1.000000       1.000000      1.000000   \n",
       "                       25%         2.000000       2.000000      2.000000   \n",
       "                       50%         3.000000       4.000000      3.000000   \n",
       "                       75%         5.000000       6.000000      5.000000   \n",
       "                       max         8.000000       7.000000      9.000000   \n",
       "\n",
       "cluster                                   3  \n",
       "Gender                 count     530.000000  \n",
       "                       mean        0.388679  \n",
       "                       std         0.487911  \n",
       "                       min         0.000000  \n",
       "                       25%         0.000000  \n",
       "                       50%         0.000000  \n",
       "                       75%         1.000000  \n",
       "                       max         1.000000  \n",
       "Age                    count     530.000000  \n",
       "                       mean       49.824528  \n",
       "                       std        29.872340  \n",
       "                       min         0.000000  \n",
       "                       25%        23.000000  \n",
       "                       50%        52.000000  \n",
       "                       75%        77.000000  \n",
       "                       max        99.000000  \n",
       "Annual Income ($)      count     530.000000  \n",
       "                       mean   128863.011321  \n",
       "                       std     12291.471260  \n",
       "                       min    107323.000000  \n",
       "                       25%    118093.000000  \n",
       "                       50%    129117.000000  \n",
       "                       75%    140074.250000  \n",
       "                       max    149237.000000  \n",
       "Spending Score (1-100) count     530.000000  \n",
       "                       mean       53.060377  \n",
       "                       std        28.396733  \n",
       "                       min         1.000000  \n",
       "                       25%        30.000000  \n",
       "                       50%        53.000000  \n",
       "                       75%        78.000000  \n",
       "                       max       100.000000  \n",
       "Work Experience        count     530.000000  \n",
       "                       mean        4.407547  \n",
       "                       std         3.972964  \n",
       "                       min         0.000000  \n",
       "                       25%         1.000000  \n",
       "                       50%         4.000000  \n",
       "                       75%         8.000000  \n",
       "                       max        17.000000  \n",
       "Family Size            count     530.000000  \n",
       "                       mean        4.039623  \n",
       "                       std         1.989656  \n",
       "                       min         1.000000  \n",
       "                       25%         2.000000  \n",
       "                       50%         4.000000  \n",
       "                       75%         6.000000  \n",
       "                       max         8.000000  "
      ]
     },
     "execution_count": 66,
     "metadata": {},
     "output_type": "execute_result"
    }
   ],
   "source": [
    "data.groupby(\"cluster\").describe().T"
   ]
  },
  {
   "cell_type": "markdown",
   "id": "0e12c1fd",
   "metadata": {},
   "source": [
    "#### Plotting the clusters"
   ]
  },
  {
   "cell_type": "code",
   "execution_count": 67,
   "id": "c3f369ce",
   "metadata": {},
   "outputs": [
    {
     "data": {
      "text/plain": [
       "<matplotlib.collections.PathCollection at 0x1dc6bdf2ac0>"
      ]
     },
     "execution_count": 67,
     "metadata": {},
     "output_type": "execute_result"
    },
    {
     "data": {
      "image/png": "[encoded data removed]",
      "text/plain": [
       "<Figure size 640x480 with 1 Axes>"
      ]
     },
     "metadata": {},
     "output_type": "display_data"
    }
   ],
   "source": [
    "plt.scatter(data[\"Annual Income ($)\"][data[\"cluster\"]==0],data[\"Spending Score (1-100)\"][data[\"cluster\"]==0],s=100,c=\"red\",label=\"cluster1\")\n",
    "plt.scatter(data[\"Annual Income ($)\"][data[\"cluster\"]==1],data[\"Spending Score (1-100)\"][data[\"cluster\"]==1],s=100,c=\"blue\",label=\"cluster1\")\n",
    "plt.scatter(data[\"Annual Income ($)\"][data[\"cluster\"]==2],data[\"Spending Score (1-100)\"][data[\"cluster\"]==2],s=100,c=\"green\",label=\"cluster1\")\n",
    "plt.scatter(data[\"Annual Income ($)\"][data[\"cluster\"]==3],data[\"Spending Score (1-100)\"][data[\"cluster\"]==3],s=100,c=\"yellow\",label=\"cluster1\")\n",
    "plt.scatter(data[\"Annual Income ($)\"][data[\"cluster\"]==4],data[\"Spending Score (1-100)\"][data[\"cluster\"]==4],s=100,c=\"black\",label=\"cluster1\")\n"
   ]
  },
  {
   "cell_type": "code",
   "execution_count": 68,
   "id": "17f9264b",
   "metadata": {},
   "outputs": [
    {
     "data": {
      "text/plain": [
       "0.5324127514105044"
      ]
     },
     "execution_count": 68,
     "metadata": {},
     "output_type": "execute_result"
    }
   ],
   "source": [
    "from sklearn.metrics import silhouette_score\n",
    "silhouette_score(data,km.labels_)"
   ]
  },
  {
   "cell_type": "code",
   "execution_count": null,
   "id": "0b71acf4",
   "metadata": {},
   "outputs": [],
   "source": []
  },
  {
   "cell_type": "code",
   "execution_count": null,
   "id": "7dd33feb",
   "metadata": {},
   "outputs": [],
   "source": []
  }
 ],
 "metadata": {
  "kernelspec": {
   "display_name": "Python 3 (ipykernel)",
   "language": "python",
   "name": "python3"
  },
  "language_info": {
   "codemirror_mode": {
    "name": "ipython",
    "version": 3
   },
   "file_extension": ".py",
   "mimetype": "text/x-python",
   "name": "python",
   "nbconvert_exporter": "python",
   "pygments_lexer": "ipython3",
   "version": "3.9.13"
  }
 },
 "nbformat": 4,
 "nbformat_minor": 5
}
